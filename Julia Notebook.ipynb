{
 "cells": [
  {
   "cell_type": "markdown",
   "metadata": {
    "id": "-YSCGJouOQN7"
   },
   "source": [
    "# Julia Notebook\n",
    "\n",
    "Based on the demo from NN tutorial 1.\n",
    "\n",
    "1. Google Colab\n",
    "2. Data loading\n",
    "3. MLP forward pass\n",
    "4. Batching/vectorization\n",
    "5. Automatic differentiation\n",
    "6. MLP gradient descent\n",
    "7. MLP using Keras"
   ]
  },
  {
   "cell_type": "markdown",
   "metadata": {
    "id": "xDBVj8S5OQN_"
   },
   "source": [
    "# 1) Google Colab\n",
    "\n",
    "To activate your Colab notebook for GPU usage, go to `Runtime > Change runtime type` and select `GPU` as hardware accelerator. Then, run the following to check your device availability."
   ]
  },
  {
   "cell_type": "code",
   "execution_count": 15,
   "metadata": {
    "colab": {
     "base_uri": "https://localhost:8080/"
    },
    "id": "kZqmSdREOWHi",
    "outputId": "86b7811a-0b17-4dab-c611-f9eeca617185"
   },
   "outputs": [
    {
     "name": "stdout",
     "output_type": "stream",
     "text": [
      "Wed May 12 14:02:16 2021       \n",
      "+-----------------------------------------------------------------------------+\n",
      "| NVIDIA-SMI 461.09       Driver Version: 461.09       CUDA Version: 11.2     |\n",
      "|-------------------------------+----------------------+----------------------+\n",
      "| GPU  Name            TCC/WDDM | Bus-Id        Disp.A | Volatile Uncorr. ECC |\n",
      "| Fan  Temp  Perf  Pwr:Usage/Cap|         Memory-Usage | GPU-Util  Compute M. |\n",
      "|                               |                      |               MIG M. |\n",
      "|===============================+======================+======================|\n",
      "|   0  GeForce GTX 165... WDDM  | 00000000:57:00.0 Off |                  N/A |\n",
      "| N/A   46C    P8     5W /  N/A |    134MiB /  4096MiB |      0%      Default |\n",
      "|                               |                      |                  N/A |\n",
      "+-------------------------------+----------------------+----------------------+\n",
      "                                                                               \n",
      "+-----------------------------------------------------------------------------+\n",
      "| Processes:                                                                  |\n",
      "|  GPU   GI   CI        PID   Type   Process name                  GPU Memory |\n",
      "|        ID   ID                                                   Usage      |\n",
      "|=============================================================================|\n",
      "|  No running processes found                                                 |\n",
      "+-----------------------------------------------------------------------------+\n"
     ]
    }
   ],
   "source": [
    "!nvidia-smi"
   ]
  },
  {
   "cell_type": "markdown",
   "metadata": {
    "id": "h_x3YHRBOQOB"
   },
   "source": [
    "# 2) Loading the data\n",
    "\n",
    "Load each datafile into jupyter, extract their $x$ and $y$ entries, and store the results in matrices."
   ]
  },
  {
   "cell_type": "code",
   "execution_count": 16,
   "metadata": {
    "id": "PNDOrliAOQOB"
   },
   "outputs": [],
   "source": [
    "import matplotlib.pyplot as plt\n",
    "import numpy as np\n",
    "import sklearn\n",
    "import sklearn.datasets"
   ]
  },
  {
   "cell_type": "code",
   "execution_count": 17,
   "metadata": {
    "colab": {
     "base_uri": "https://localhost:8080/"
    },
    "id": "FvqBfUlNOQOC",
    "outputId": "0bd7d59e-013e-4040-b873-0503d7930c9c",
    "scrolled": false
   },
   "outputs": [
    {
     "name": "stdout",
     "output_type": "stream",
     "text": [
      "data points: (10, 521, 521)\n",
      "targets: (10, 2)\n"
     ]
    }
   ],
   "source": [
    "# x: (n_samples, x_ver_dim, x_hor_dim) with x_ver_dim = x_hor_dim = 512 (so in total 512^2 pixel)\n",
    "# y: (n_samples, y_dim) with y_dim=2 (the julia constant and the starting coordinate)\n",
    "\n",
    "dataList = []\n",
    "ytargetList = []\n",
    "# load first 10 datapoints for testing\n",
    "for fileIndex in range(10):\n",
    "    with open('trainingData/data'+str(fileIndex)+'.jset', 'r') as file:\n",
    "        ytargetString = file.readline()[2:].rstrip()\n",
    "        lines = file.readlines()\n",
    "    ytargetList.append(np.fromstring(ytargetString, dtype=float, sep=','))\n",
    "    dataList.append([np.fromstring(line, dtype=float, sep=',') for line in lines])\n",
    "#convert lists into numpy matrices\n",
    "data = np.array(dataList)\n",
    "ytarget = np.array(ytargetList)\n",
    "print('data points:', data.shape)\n",
    "print('targets:', ytarget.shape)"
   ]
  },
  {
   "cell_type": "markdown",
   "metadata": {
    "id": "x3qDYh0jOQOG"
   },
   "source": [
    "Visualize the four first data points $x$ as images along with their parameters."
   ]
  },
  {
   "cell_type": "code",
   "execution_count": 18,
   "metadata": {
    "colab": {
     "base_uri": "https://localhost:8080/",
     "height": 168
    },
    "id": "rUiZFgp7OQOG",
    "outputId": "d1e50fdc-89c2-433f-de30-1f9fcf4bad44"
   },
   "outputs": [
    {
     "data": {
      "image/png": "[encoded data removed]",
      "text/plain": [
       "<Figure size 1008x360 with 4 Axes>"
      ]
     },
     "metadata": {
      "needs_background": "light"
     },
     "output_type": "display_data"
    }
   ],
   "source": [
    "# plotting example images\n",
    "_, axes = plt.subplots(nrows=1, ncols=4, figsize=(14, 5))\n",
    "for ax, image, label in zip(axes, x_image, ytarget[:4]):\n",
    "    ax.set_axis_off()\n",
    "    ax.imshow(image)\n",
    "    ax.set_title('y: {}'.format(label))"
   ]
  },
  {
   "cell_type": "markdown",
   "metadata": {
    "id": "3tFFvD07OQOH"
   },
   "source": [
    "# 3) Building a MLP (forward pass)\n",
    "\n",
    "Our goal is to build a feedforward neural network (MLP) to accurately classify these images of digits. We will feed a 64-dimensional input vector into the network and expect a 10-dimensional output vector, where element $i$ ($i \\in \\{0, \\ldots, 9\\}$) of the output vector corresponds to the network's estimated probability that the input image is showing the digit $i$. "
   ]
  },
  {
   "cell_type": "markdown",
   "metadata": {
    "id": "kHXAdmyKOQOH"
   },
   "source": [
    "We first setup the model's hyperparameters - in our case we only specify the number of units in each layer of the network and `initial_scaling` - the scaling of our initial weight and bias values.\n",
    "\n",
    "Then we also initialize the model parameters - these are the weights and biases of the network in each layer."
   ]
  },
  {
   "cell_type": "code",
   "execution_count": null,
   "metadata": {
    "colab": {
     "base_uri": "https://localhost:8080/"
    },
    "id": "syrTxMXROQOJ",
    "outputId": "a1ad3f6e-70ca-45a7-973f-e27ca38583d7"
   },
   "outputs": [
    {
     "name": "stdout",
     "output_type": "stream",
     "text": [
      "[[(500, 64), (500,)], [(500, 500), (500,)], [(10, 500), (10,)]]\n"
     ]
    }
   ],
   "source": [
    "# network hyperparameters\n",
    "layers = [x.shape[1], 500, 500, ytarget.shape[1]]\n",
    "initial_scaling = 0.01\n",
    "\n",
    "# model parameters\n",
    "# list(tuple(weight_mat, bias_vec))\n",
    "params = [\n",
    "    (\n",
    "        # weights\n",
    "        np.random.normal(size=(layers[i+1], layers[i])) * initial_scaling,\n",
    "        # bias\n",
    "        np.random.normal(size=(layers[i+1],)) * initial_scaling\n",
    "    )\n",
    "    for i in range(len(layers)-1)\n",
    "]\n",
    "\n",
    "# check parameters\n",
    "print([list(map(lambda x: x.shape, params[i])) for i in range(len(params))])"
   ]
  },
  {
   "cell_type": "markdown",
   "metadata": {
    "id": "iMeki1sROQOL"
   },
   "source": [
    "We implement the forward pass of the network as a function taking in the network parameters and the input vector."
   ]
  },
  {
   "cell_type": "code",
   "execution_count": null,
   "metadata": {
    "id": "92r1SEs0OQOM"
   },
   "outputs": [],
   "source": [
    "def nn_forward(params, x):\n",
    "    # x: (x_dim) - vector!\n",
    "    state = x\n",
    "    # pass through input and hidden layers\n",
    "    for wi, bi in params[:-1]:\n",
    "        # first iteration\n",
    "        # state: (x_dim,)\n",
    "        # wi: (hid1_dim, x_dim)\n",
    "        # bi: (hid1_dim)\n",
    "        state = np.dot(wi, state) + bi\n",
    "        state = np.tanh(state)\n",
    "    # pass through output layer\n",
    "    wf, bf = params[-1]\n",
    "    logits = np.dot(wf, state) + bf\n",
    "    # softmax (normalize to prob distr)\n",
    "    return np.exp(logits) / np.sum(np.exp(logits))"
   ]
  },
  {
   "cell_type": "code",
   "execution_count": null,
   "metadata": {
    "colab": {
     "base_uri": "https://localhost:8080/"
    },
    "id": "Q97CIFaNOQOM",
    "outputId": "29595b82-e50c-4298-b8a3-042b251a4510"
   },
   "outputs": [
    {
     "name": "stdout",
     "output_type": "stream",
     "text": [
      "ypred: [0.09880835 0.09438367 0.10221071 0.09908846 0.10186302 0.10296832\n",
      " 0.10276648 0.09755402 0.09934062 0.10101635]\n",
      "ypred sum: 1.0\n",
      "Predicted digit: 6\n"
     ]
    }
   ],
   "source": [
    "# check forward pass\n",
    "ypred = nn_forward(params, x[0,:])\n",
    "print('ypred:', ypred)\n",
    "print('ypred sum:', ypred.sum())\n",
    "print('Predicted digit:', np.argmax(ypred) + 1)"
   ]
  },
  {
   "cell_type": "markdown",
   "metadata": {
    "id": "_kVOkp39OQOO"
   },
   "source": [
    "This is fine, but we are going to feed in around 2000 image vectors per training epoch (and potentially we will be training the network for many epochs). To do this more efficiently, we need to **batch** the inputs to the forward pass."
   ]
  },
  {
   "cell_type": "markdown",
   "metadata": {
    "id": "taOaJKuWOQOO"
   },
   "source": [
    "# 5) Batching (naive and using JAX)\n",
    "\n",
    "We will compare three different methods for implementing the batched forward pass:\n",
    "1. naive batching (for loop)\n",
    "2. rewriting function for input batches\n",
    "3. using JAX's vectorization function\n",
    "\n",
    "To learn more about JAX, visit https://github.com/google/jax. In short, JAX is a Python package to automatically differentiate, vectorize and optimize Python and NumPy programs with CPU, GPU, and TPU support. It is maintained by Google Research and actively using in Machine Learning and Neural Networks research at Google, DeepMind, and other leading high-performance ML research institutions. "
   ]
  },
  {
   "cell_type": "code",
   "execution_count": null,
   "metadata": {
    "id": "iqDrU62aOQOO"
   },
   "outputs": [],
   "source": [
    "# naive batching\n",
    "ypred = np.array([nn_forward(params, x[i, :]) for i in range(x.shape[0])])"
   ]
  },
  {
   "cell_type": "markdown",
   "metadata": {
    "id": "_6ujtWNlOQOP"
   },
   "source": [
    "As you can imagine, this naive way of batching is not optimized at all."
   ]
  },
  {
   "cell_type": "code",
   "execution_count": null,
   "metadata": {
    "id": "ph2oGusoOQOP"
   },
   "outputs": [],
   "source": [
    "# rewriting function for input batches\n",
    "def nn_forward_batch(params, x):\n",
    "    # x: (batch_size, x_dim) - matrix\n",
    "    state = x\n",
    "    # pass through input and hidden layers\n",
    "    for wi, bi in params[:-1]:\n",
    "        # first iteration\n",
    "        # state: (batch_size, x_dim)\n",
    "        # wi: (hid1_dim, x_dim)\n",
    "        # bi: (hid1_dim)\n",
    "        state = np.dot(wi, state.T).T + bi # numpy broadcasting!\n",
    "        state = np.tanh(state)\n",
    "    # pass through output layer\n",
    "    wf, bf = params[-1]\n",
    "    logits = np.dot(wf, state.T).T + bf\n",
    "    # softmax (normalize to prob distr)\n",
    "    return (np.exp(logits).T / np.sum(np.exp(logits), axis=1)).T"
   ]
  },
  {
   "cell_type": "markdown",
   "metadata": {
    "id": "1No25p47OQOP"
   },
   "source": [
    "This is much better - instead of doing many vector operations sequentially, we are doing just one pass of matrix operations. This is great, but such a rewriting can be very time-consuming and for more complex functions, it can become a great source of bugs."
   ]
  },
  {
   "cell_type": "markdown",
   "metadata": {
    "id": "eaKEOGZNOQOQ"
   },
   "source": [
    "Next up, we will be using **JAX** to automatically vectorize (i.e. batch) our function. For this, we need to first rewrite our function from using `numpy` to using `jax.numpy` aka `jnp`. A key difference here is JAX's usage of keys for their pseudo-random number generator. "
   ]
  },
  {
   "cell_type": "code",
   "execution_count": null,
   "metadata": {
    "colab": {
     "base_uri": "https://localhost:8080/"
    },
    "id": "gmPbxXwNOQOQ",
    "outputId": "3b421233-4bac-4986-8d82-5fba6e15833d"
   },
   "outputs": [
    {
     "data": {
      "text/plain": [
       "(25, 35)"
      ]
     },
     "execution_count": 14,
     "metadata": {
      "tags": []
     },
     "output_type": "execute_result"
    }
   ],
   "source": [
    "import jax\n",
    "import jax.numpy as jnp\n",
    "\n",
    "# random key\n",
    "key = jax.random.PRNGKey(0)\n",
    "\n",
    "# JAX arrays -> device optimized\n",
    "a = jax.random.normal(key, (25, 35))\n",
    "a.shape"
   ]
  },
  {
   "cell_type": "markdown",
   "metadata": {
    "id": "yIY6a606OQOQ"
   },
   "source": [
    "Note the warning that JAX is *falling back to CPU*, implying that the default way of running JAX is on GPUs or TPUs. This is reflected in the JAX arrays being of type `DeviceArray` - with device-specific optimizations out of the box:"
   ]
  },
  {
   "cell_type": "code",
   "execution_count": null,
   "metadata": {
    "colab": {
     "base_uri": "https://localhost:8080/"
    },
    "id": "LjLq1UAoOQOR",
    "outputId": "4e92b1b4-0d40-407b-c2ac-5bcdba3fce07"
   },
   "outputs": [
    {
     "data": {
      "text/plain": [
       "jaxlib.xla_extension.DeviceArray"
      ]
     },
     "execution_count": 15,
     "metadata": {
      "tags": []
     },
     "output_type": "execute_result"
    }
   ],
   "source": [
    "type(a)"
   ]
  },
  {
   "cell_type": "markdown",
   "metadata": {
    "id": "Zr4FzDczOQOR"
   },
   "source": [
    "Simply replace `np` with `jnp`:"
   ]
  },
  {
   "cell_type": "code",
   "execution_count": null,
   "metadata": {
    "id": "piURjU60OQOR"
   },
   "outputs": [],
   "source": [
    "def nn_forward_jnp(params, x):\n",
    "    # x: (x_dim) - vector!\n",
    "    state = x\n",
    "    # pass through input and hidden layers\n",
    "    for wi, bi in params[:-1]:\n",
    "        # first iteration\n",
    "        # state: (x_dim,)\n",
    "        # wi: (hid1_dim, x_dim)\n",
    "        # bi: (hid1_dim)\n",
    "        state = jnp.dot(wi, state) + bi\n",
    "        state = jnp.tanh(state)\n",
    "    # pass through output layer\n",
    "    wf, bf = params[-1]\n",
    "    logits = jnp.dot(wf, state) + bf\n",
    "    # softmax (normalize to prob distr)\n",
    "    return jnp.exp(logits) / jnp.sum(jnp.exp(logits))"
   ]
  },
  {
   "cell_type": "markdown",
   "metadata": {
    "id": "bMFu_scNOQOS"
   },
   "source": [
    "Automatically vectorizing (batching) a function is a simple one-liner in JAX. The `in_axes` parameter indicates what axes of the function inputs will be used for the batching (we don't want to batch the network `params`, only the `x` input). "
   ]
  },
  {
   "cell_type": "code",
   "execution_count": null,
   "metadata": {
    "id": "XIviTavGOQOS"
   },
   "outputs": [],
   "source": [
    "nn_forward_batchd = jax.vmap(nn_forward_jnp, in_axes=(None, 0)) # that's it!"
   ]
  },
  {
   "cell_type": "markdown",
   "metadata": {
    "id": "b12wGcGJOQOS"
   },
   "source": [
    "Let us run a time comparison:"
   ]
  },
  {
   "cell_type": "code",
   "execution_count": null,
   "metadata": {
    "colab": {
     "base_uri": "https://localhost:8080/"
    },
    "id": "gBnYATKkOQOS",
    "outputId": "9a847db5-834a-437d-d9e4-3ded34650678"
   },
   "outputs": [
    {
     "name": "stdout",
     "output_type": "stream",
     "text": [
      "1 loop, best of 5: 307 ms per loop\n"
     ]
    }
   ],
   "source": [
    "# naive batching\n",
    "%timeit np.array([nn_forward(params, x[i, :]) for i in range(x.shape[0])])"
   ]
  },
  {
   "cell_type": "code",
   "execution_count": null,
   "metadata": {
    "colab": {
     "base_uri": "https://localhost:8080/"
    },
    "id": "M9Q-KOODOQOT",
    "outputId": "26777b53-35b2-46d4-e40e-23caca50e396"
   },
   "outputs": [
    {
     "name": "stdout",
     "output_type": "stream",
     "text": [
      "10 loops, best of 5: 93.2 ms per loop\n"
     ]
    }
   ],
   "source": [
    "# manual batching\n",
    "%timeit nn_forward_batch(params, x)"
   ]
  },
  {
   "cell_type": "code",
   "execution_count": null,
   "metadata": {
    "colab": {
     "base_uri": "https://localhost:8080/"
    },
    "id": "ma30hogUOQOT",
    "outputId": "c3de121d-fb81-4a20-b3b4-83a233a5add0"
   },
   "outputs": [
    {
     "name": "stdout",
     "output_type": "stream",
     "text": [
      "The slowest run took 317.27 times longer than the fastest. This could mean that an intermediate result is being cached.\n",
      "1 loop, best of 5: 11.7 ms per loop\n"
     ]
    }
   ],
   "source": [
    "# JAX batching\n",
    "%timeit nn_forward_batchd(params, jnp.array(x))"
   ]
  },
  {
   "cell_type": "markdown",
   "metadata": {
    "id": "keVgqtiqOQOT"
   },
   "source": [
    "JAX even managed to outperform our own manual implementation of the batching!!"
   ]
  },
  {
   "cell_type": "markdown",
   "metadata": {
    "id": "enzK0VuSOQOT"
   },
   "source": [
    "# 6) Automatic differentiation\n",
    "\n",
    "In order to implement gradient descent, we could write a `backward_pass` function for the neural network and manually program in the differentiation of the loss function with respect to the network parameters. This is quite tedious. \n",
    "\n",
    "Instead, we will use *automatic differentiation*, which is used under the hood in pretty much every deep learning framework (TensorFlow, PyTorch, Keras, etc.). This is **not** finite differences (a numeric method) - finite differences produces prohibitive round-off errors, and is inefficient as it requires a forward pass for every parameter with respect to which you want to differentiate. Neither is it fully symbolic differentiation, which (often) leads to much redundancy in computing the derivatives (the deep learning framework `Theano` uses symbolic differentiation). \n",
    "\n",
    "You can think of automatic differentiation as symbolic differentiation on computer programs (instead of on math expressions). One of its modes (forward mode) is mathematically equivalent to evaluating a function using dual numbers of the form $x + \\dot x \\epsilon$.\n",
    "\n",
    "If you want to dive deeper into this (very interesting) topic, check out this [blog post](http://conal.net/blog/posts/what-is-automatic-differentiation-and-why-does-it-work) on automatic differentiation (or the accompanying [paper](http://conal.net/papers/beautiful-differentiation/beautiful-differentiation-long.pdf) and [presentation](https://vimeo.com/6622658)) or this [survey paper](https://jmlr.org/papers/volume18/17-468/17-468.pdf) on automatic differentiation in machine learning."
   ]
  },
  {
   "cell_type": "code",
   "execution_count": null,
   "metadata": {
    "id": "hjPV3OAQOQOU"
   },
   "outputs": [],
   "source": [
    "def forward(x):\n",
    "    return jnp.sin(x) * 2*x\n",
    "\n",
    "def backward(x):\n",
    "    return jnp.cos(x) * 2*x + 2*jnp.sin(x)\n",
    "\n",
    "backward_jax = jax.grad(forward) # that's it!"
   ]
  },
  {
   "cell_type": "code",
   "execution_count": null,
   "metadata": {
    "id": "uWyuLIH3OQOU"
   },
   "outputs": [],
   "source": [
    "# demo\n",
    "inp = jnp.arange(0, 50., 0.01)"
   ]
  },
  {
   "cell_type": "code",
   "execution_count": null,
   "metadata": {
    "id": "RO4MPXecOQOU"
   },
   "outputs": [],
   "source": [
    "# compute\n",
    "f = jax.vmap(forward)(inp)\n",
    "b = jax.vmap(backward)(inp)\n",
    "j = jax.vmap(backward_jax)(inp)"
   ]
  },
  {
   "cell_type": "code",
   "execution_count": null,
   "metadata": {
    "colab": {
     "base_uri": "https://localhost:8080/",
     "height": 265
    },
    "id": "3LNLvyeIOQOV",
    "outputId": "083f6019-0d14-4d35-8d16-23e132c17bb3"
   },
   "outputs": [
    {
     "data": {
      "image/png": "[encoded data removed]",
      "text/plain": [
       "<Figure size 1080x288 with 1 Axes>"
      ]
     },
     "metadata": {
      "needs_background": "light",
      "tags": []
     },
     "output_type": "display_data"
    }
   ],
   "source": [
    "fig, ax = plt.subplots(figsize=(15,4))\n",
    "ax.plot(inp, f)\n",
    "ax.plot(inp, b, c='red')\n",
    "ax.plot(inp, j, c='green', ls='--')\n",
    "plt.show()"
   ]
  },
  {
   "cell_type": "markdown",
   "metadata": {
    "id": "Xz3oiK3mOQOV"
   },
   "source": [
    "# 7) MLP in JAX (forward and backward)\n",
    "\n",
    "We now use JAX's automatic differentiation to implement the backward step (gradient descent) for our MLP. "
   ]
  },
  {
   "cell_type": "code",
   "execution_count": null,
   "metadata": {
    "id": "3zVIGZQYOQOV"
   },
   "outputs": [],
   "source": [
    "x = jnp.array(x)\n",
    "ytarget = jnp.array(ytarget)"
   ]
  },
  {
   "cell_type": "code",
   "execution_count": null,
   "metadata": {
    "colab": {
     "base_uri": "https://localhost:8080/"
    },
    "id": "DQ-4-0v9OQOV",
    "outputId": "38b07390-164c-422b-e5df-a700a0120f2f"
   },
   "outputs": [
    {
     "data": {
      "text/plain": [
       "DeviceArray([[ 0.,  0.,  5., ...,  0.,  0.,  0.],\n",
       "             [ 0.,  0.,  0., ..., 10.,  0.,  0.],\n",
       "             [ 0.,  0.,  0., ..., 16.,  9.,  0.],\n",
       "             ...,\n",
       "             [ 0.,  0.,  1., ...,  6.,  0.,  0.],\n",
       "             [ 0.,  0.,  2., ..., 12.,  0.,  0.],\n",
       "             [ 0.,  0., 10., ..., 12.,  1.,  0.]], dtype=float32)"
      ]
     },
     "execution_count": 26,
     "metadata": {
      "tags": []
     },
     "output_type": "execute_result"
    }
   ],
   "source": [
    "x"
   ]
  },
  {
   "cell_type": "markdown",
   "metadata": {
    "id": "2uLfhtSkOQOW"
   },
   "source": [
    "We need to also translate our initial code to use JAX's version of numpy:"
   ]
  },
  {
   "cell_type": "code",
   "execution_count": null,
   "metadata": {
    "colab": {
     "base_uri": "https://localhost:8080/"
    },
    "id": "SVuRRholOQOW",
    "outputId": "9d0250f3-e1c5-48c6-91b0-71bbda760731"
   },
   "outputs": [
    {
     "name": "stdout",
     "output_type": "stream",
     "text": [
      "[[(512, 64), (512,)], [(512, 512), (512,)], [(10, 512), (10,)]]\n"
     ]
    }
   ],
   "source": [
    "layers = [x.shape[1], 512, 512, ytarget.shape[1]]\n",
    "params = [\n",
    "    (\n",
    "        jax.random.normal(key, (layers[i+1], layers[i])) * 0.01,\n",
    "        jax.random.normal(key, (layers[i+1],)) * 0.01\n",
    "    )\n",
    "    for i in range(len(layers)-1)\n",
    "]\n",
    "print([list(map(lambda x: x.shape, params[i])) for i in range(len(params))])"
   ]
  },
  {
   "cell_type": "code",
   "execution_count": null,
   "metadata": {
    "id": "izPqFwjWOQOX"
   },
   "outputs": [],
   "source": [
    "def nn_forward(params, x):\n",
    "    state = x\n",
    "    for wi, bi in params[:-1]:\n",
    "        state = jnp.dot(wi, state) + bi\n",
    "        state = jnp.tanh(state)\n",
    "    wf, bf = params[-1]\n",
    "    logits = jnp.dot(wf, state) + bf\n",
    "    return jnp.exp(logits) / jnp.sum(jnp.exp(logits))"
   ]
  },
  {
   "cell_type": "code",
   "execution_count": null,
   "metadata": {
    "id": "3iAdJUnKOQOX"
   },
   "outputs": [],
   "source": [
    "nn_forward_batch = jax.vmap(nn_forward, in_axes=(None, 0))"
   ]
  },
  {
   "cell_type": "markdown",
   "metadata": {
    "id": "fuy2M98sOQOX"
   },
   "source": [
    "Now, we can implement the MSE loss function:"
   ]
  },
  {
   "cell_type": "code",
   "execution_count": null,
   "metadata": {
    "id": "kcA9wfrHOQOY"
   },
   "outputs": [],
   "source": [
    "def loss(params, x, ytarget):\n",
    "    # takes in batch!\n",
    "    # compute MSE loss\n",
    "    ypred = nn_forward_batch(params, x)\n",
    "    return jnp.square(ytarget - ypred).mean()"
   ]
  },
  {
   "cell_type": "markdown",
   "metadata": {
    "id": "Lctlf8KvOQOY"
   },
   "source": [
    "We will also want to compute the accuracy for a batch"
   ]
  },
  {
   "cell_type": "code",
   "execution_count": null,
   "metadata": {
    "id": "0Q8dktndOQOY"
   },
   "outputs": [],
   "source": [
    "def accuracy(params, x, ytarget):\n",
    "    # ypred (batch_size, y_dim)\n",
    "    ypred = nn_forward_batch(params, x)\n",
    "    return np.sum(ypred.argmax(axis=1) == ytarget.argmax(axis=1)) / ypred.shape[0]"
   ]
  },
  {
   "cell_type": "markdown",
   "metadata": {
    "id": "kwJlSWVEOQOZ"
   },
   "source": [
    "And we are ready to implement the gradient descent step:"
   ]
  },
  {
   "cell_type": "code",
   "execution_count": null,
   "metadata": {
    "id": "KL5rKV1POQOZ"
   },
   "outputs": [],
   "source": [
    "@jax.jit \n",
    "def update_params(params, x, ytarget, step_size=1e-2):\n",
    "    # does one epoch of training, then computes gradients, and one step of gradient descent\n",
    "    # returns updated weights\n",
    "    grads = jax.grad(loss)(params, x, ytarget)\n",
    "    return [\n",
    "        (\n",
    "            w - step_size * dw, \n",
    "            b - step_size * db\n",
    "        ) for (dw, db), (w, b) in zip(grads, params)\n",
    "    ]"
   ]
  },
  {
   "cell_type": "markdown",
   "metadata": {
    "id": "hu1mpCMgOQOZ"
   },
   "source": [
    "Before we can train the network, we need to split our data into training and testing sets:"
   ]
  },
  {
   "cell_type": "code",
   "execution_count": null,
   "metadata": {
    "id": "AFo0iYJZOQOZ"
   },
   "outputs": [],
   "source": [
    "# shuffle dataset\n",
    "permutation = jax.random.permutation(key, jnp.arange(x.shape[0]))\n",
    "x_shuffled = x[permutation]\n",
    "ytarget_shuffled = ytarget[permutation]"
   ]
  },
  {
   "cell_type": "code",
   "execution_count": null,
   "metadata": {
    "id": "V1wDugUbOQOZ"
   },
   "outputs": [],
   "source": [
    "# split 80:20\n",
    "n_train = int(x.shape[0] * 0.8)\n",
    "x_train = x_shuffled[:n_train]\n",
    "yt_train = ytarget_shuffled[:n_train]\n",
    "x_test = x_shuffled[n_train:]\n",
    "yt_test = ytarget_shuffled[n_train:]"
   ]
  },
  {
   "cell_type": "code",
   "execution_count": null,
   "metadata": {
    "colab": {
     "base_uri": "https://localhost:8080/"
    },
    "id": "6k_7UQlCOQOZ",
    "outputId": "ed33de51-9bd4-44d1-bc38-2034a46ea39e"
   },
   "outputs": [
    {
     "data": {
      "text/plain": [
       "((1437, 64), (360, 64))"
      ]
     },
     "execution_count": 35,
     "metadata": {
      "tags": []
     },
     "output_type": "execute_result"
    }
   ],
   "source": [
    "x_train.shape, x_test.shape"
   ]
  },
  {
   "cell_type": "code",
   "execution_count": null,
   "metadata": {
    "id": "IyIbfNZiOQOa"
   },
   "outputs": [],
   "source": [
    "# save original (random) params\n",
    "orig_params = params.copy()"
   ]
  },
  {
   "cell_type": "code",
   "execution_count": null,
   "metadata": {
    "colab": {
     "base_uri": "https://localhost:8080/"
    },
    "id": "BL--AzDnOQOa",
    "outputId": "a268e198-3f81-4260-adf5-2e049056f96f"
   },
   "outputs": [
    {
     "name": "stdout",
     "output_type": "stream",
     "text": [
      "epoch   0 testing 17.78% training 18.65%\n",
      "epoch  10 testing 25.56% training 29.09%\n",
      "epoch  20 testing 38.33% training 38.97%\n",
      "epoch  30 testing 48.06% training 48.71%\n",
      "epoch  40 testing 57.22% training 59.50%\n",
      "epoch  50 testing 67.50% training 68.62%\n",
      "epoch  60 testing 72.22% training 73.70%\n",
      "epoch  70 testing 75.28% training 76.76%\n",
      "epoch  80 testing 77.78% training 79.19%\n",
      "epoch  90 testing 79.72% training 80.72%\n",
      "epoch 100 testing 80.83% training 81.84%\n",
      "epoch 110 testing 81.67% training 82.53%\n",
      "epoch 120 testing 81.11% training 83.58%\n",
      "epoch 130 testing 82.50% training 83.79%\n",
      "epoch 140 testing 83.61% training 84.06%\n",
      "epoch 150 testing 83.33% training 84.13%\n",
      "epoch 160 testing 82.22% training 84.13%\n",
      "epoch 170 testing 81.94% training 83.44%\n",
      "epoch 180 testing 82.50% training 83.16%\n",
      "epoch 190 testing 81.94% training 82.81%\n",
      "epoch 200 testing 82.50% training 82.05%\n"
     ]
    }
   ],
   "source": [
    "# training procedure\n",
    "hist = []\n",
    "num_epochs = 200\n",
    "for i in range(num_epochs+1):\n",
    "    step_size=max((0.2 - i*0.0001, 0.01))\n",
    "    params = update_params(params, x_train, yt_train, step_size=step_size)\n",
    "    # test\n",
    "    test_loss = loss(params, x_test, yt_test)\n",
    "    test_acc = accuracy(params, x_test, yt_test)\n",
    "    # train\n",
    "    train_loss = loss(params, x_train, yt_train)\n",
    "    train_acc = accuracy(params, x_train, yt_train)\n",
    "    # print\n",
    "    if i % 10 == 0:\n",
    "        print('epoch {:3} testing {:6.2%} training {:6.2%}'.format(\n",
    "            i, test_acc, train_acc\n",
    "        ), end='\\n')\n",
    "    # save \n",
    "    hist.append((\n",
    "        test_loss, test_acc, train_loss, test_acc\n",
    "    ))"
   ]
  },
  {
   "cell_type": "markdown",
   "metadata": {
    "id": "bZmqdDhcOQOa"
   },
   "source": [
    "This is worse than we like. One should expect a MLP with two hidden layers to get to >90% accuracy. The reason for this might be that we are updating the weights only once per epoch. To change this, we can implement a mini-batching procedure - to split the dataset into batches and update the parameters after each batch. That way, we increase the number of gradient updates. "
   ]
  },
  {
   "cell_type": "code",
   "execution_count": null,
   "metadata": {
    "id": "HYpcpXjROQOa"
   },
   "outputs": [],
   "source": [
    "def minibatch_update(params, x_train, yt_train, step_size):\n",
    "    batch_size = 400\n",
    "    batch_idx = 0\n",
    "    while batch_idx*batch_size <= x_train.shape[0]:\n",
    "        params = update_params(params, x_train[batch_idx*batch_size:(batch_idx+1)*batch_size], yt_train[batch_idx*batch_size:(batch_idx+1)*batch_size], step_size=step_size)\n",
    "        batch_idx += 1\n",
    "    params = update_params(params, x_train[batch_idx*batch_size:], yt_train[batch_idx*batch_size:], step_size=step_size)\n",
    "    return params"
   ]
  },
  {
   "cell_type": "code",
   "execution_count": null,
   "metadata": {
    "id": "DMWM2GK9OQOb"
   },
   "outputs": [],
   "source": [
    "# restore original params\n",
    "params = orig_params.copy()"
   ]
  },
  {
   "cell_type": "code",
   "execution_count": null,
   "metadata": {
    "colab": {
     "base_uri": "https://localhost:8080/"
    },
    "id": "O305F3ItOQOb",
    "outputId": "41a1b5dd-af6b-4795-e6bc-0611c61b8a63"
   },
   "outputs": [
    {
     "name": "stdout",
     "output_type": "stream",
     "text": [
      "epoch   0 testing 20.00% training 21.92%\n",
      "epoch  10 testing 51.94% training 54.07%\n",
      "epoch  20 testing 69.17% training 71.75%\n",
      "epoch  30 testing 76.39% training 78.57%\n",
      "epoch  40 testing 79.44% training 80.24%\n",
      "epoch  50 testing 79.44% training 79.19%\n",
      "epoch  60 testing 78.89% training 78.15%\n",
      "epoch  70 testing 81.94% training 79.89%\n",
      "epoch  80 testing 81.94% training 81.77%\n",
      "epoch  90 testing 83.33% training 83.79%\n",
      "epoch 100 testing 84.17% training 84.48%\n",
      "epoch 110 testing 84.72% training 86.43%\n",
      "epoch 120 testing 89.72% training 89.91%\n",
      "epoch 130 testing 93.61% training 93.11%\n",
      "epoch 140 testing 93.89% training 94.78%\n",
      "epoch 150 testing 95.28% training 95.55%\n",
      "epoch 160 testing 96.11% training 95.62%\n",
      "epoch 170 testing 96.11% training 96.10%\n",
      "epoch 180 testing 96.39% training 96.31%\n",
      "epoch 190 testing 96.39% training 96.52%\n",
      "epoch 200 testing 96.39% training 96.87%\n"
     ]
    }
   ],
   "source": [
    "# training procedure\n",
    "hist = []\n",
    "num_epochs = 200\n",
    "for i in range(num_epochs+1):\n",
    "    step_size=max((0.2 - i*0.0001, 0.01))\n",
    "    params = minibatch_update(params, x_train, yt_train, step_size=step_size)\n",
    "    # test\n",
    "    test_loss = loss(params, x_test, yt_test)\n",
    "    test_acc = accuracy(params, x_test, yt_test)\n",
    "    # train\n",
    "    train_loss = loss(params, x_train, yt_train)\n",
    "    train_acc = accuracy(params, x_train, yt_train)\n",
    "    # print\n",
    "    if i % 10 == 0:\n",
    "        print('epoch {:3} testing {:6.2%} training {:6.2%}'.format(\n",
    "            i, test_acc, train_acc\n",
    "        ), end='\\n')\n",
    "    # save \n",
    "    hist.append((\n",
    "        test_loss, test_acc, train_loss, test_acc\n",
    "    ))"
   ]
  },
  {
   "cell_type": "markdown",
   "metadata": {
    "id": "1R_5d0rmOQOb"
   },
   "source": [
    "And indeed, this helps us get to >95% accuracy. "
   ]
  },
  {
   "cell_type": "code",
   "execution_count": null,
   "metadata": {
    "colab": {
     "base_uri": "https://localhost:8080/",
     "height": 281
    },
    "id": "WsU-S53UOQOb",
    "outputId": "af157eef-1ef9-49dd-bfdc-c40921d1d58b"
   },
   "outputs": [
    {
     "data": {
      "image/png": "[encoded data removed]",
      "text/plain": [
       "<Figure size 1080x288 with 2 Axes>"
      ]
     },
     "metadata": {
      "needs_background": "light",
      "tags": []
     },
     "output_type": "display_data"
    }
   ],
   "source": [
    "fig, axs = plt.subplots(1, 2, figsize=(15,4))\n",
    "axs[0].set_title('loss')\n",
    "axs[0].plot([e[0] for e in hist])\n",
    "axs[0].plot([e[2] for e in hist])\n",
    "axs[1].set_title('accuracy')\n",
    "axs[1].plot([e[1] for e in hist])\n",
    "axs[1].plot([e[3] for e in hist])\n",
    "axs[1].set_ylim(0,1)\n",
    "plt.show()"
   ]
  },
  {
   "cell_type": "markdown",
   "metadata": {
    "id": "wpUClpxLOQOd"
   },
   "source": [
    "# 8) MLP in Keras\n",
    "\n",
    "Now that we know how to implement a feedforward neural network manually, we can try using one of the deep learning frameworks to do the same thing. We will use Keras - it defines an API on top of TensorFlow and makes it very easy to build (simple) neural networks (somewhat sacrificing transparency/modifiability)."
   ]
  },
  {
   "cell_type": "code",
   "execution_count": null,
   "metadata": {
    "id": "YMuHtUALOQOd"
   },
   "outputs": [],
   "source": [
    "import keras"
   ]
  },
  {
   "cell_type": "code",
   "execution_count": null,
   "metadata": {
    "id": "HGBNZmR2OQOd"
   },
   "outputs": [],
   "source": [
    "model = keras.models.Sequential()"
   ]
  },
  {
   "cell_type": "code",
   "execution_count": null,
   "metadata": {
    "id": "8-Vb4_jGOQOe"
   },
   "outputs": [],
   "source": [
    "model.add(keras.layers.Dense(500, input_shape=(64, ), activation='tanh'))\n",
    "model.add(keras.layers.Dense(500, activation='tanh'))\n",
    "model.add(keras.layers.Dense(10, activation='softmax'))"
   ]
  },
  {
   "cell_type": "code",
   "execution_count": null,
   "metadata": {
    "colab": {
     "base_uri": "https://localhost:8080/"
    },
    "id": "SC0v7PkeOQOe",
    "outputId": "4382f261-a410-4852-fa8c-0c2159b940aa"
   },
   "outputs": [
    {
     "name": "stdout",
     "output_type": "stream",
     "text": [
      "Model: \"sequential\"\n",
      "_________________________________________________________________\n",
      "Layer (type)                 Output Shape              Param #   \n",
      "=================================================================\n",
      "dense (Dense)                (None, 500)               32500     \n",
      "_________________________________________________________________\n",
      "dense_1 (Dense)              (None, 500)               250500    \n",
      "_________________________________________________________________\n",
      "dense_2 (Dense)              (None, 10)                5010      \n",
      "=================================================================\n",
      "Total params: 288,010\n",
      "Trainable params: 288,010\n",
      "Non-trainable params: 0\n",
      "_________________________________________________________________\n"
     ]
    }
   ],
   "source": [
    "model.summary()"
   ]
  },
  {
   "cell_type": "markdown",
   "metadata": {
    "id": "_Tu3lNMbaq1e"
   },
   "source": [
    "We now set up our learning algorithm. We are using stochastic gradient descent. We do not specify the batch size here and it is not obvious what is used. Looking at the Keras documentation (scroll down on [this page](https://keras.io/api/models/model_training_apis/)), we find that the `model.fit` method accepts a `batch_size` parameter. We do not specify it explicitly here, so Keras will use its default value of 32. This means that we will be doing mini batch gradient descent with a batch size of 32 (rather than 400, what we used in our JAX implementation)."
   ]
  },
  {
   "cell_type": "code",
   "execution_count": null,
   "metadata": {
    "colab": {
     "base_uri": "https://localhost:8080/"
    },
    "id": "v9Pb7f1oOQOe",
    "outputId": "2b1153a8-9427-4824-ac3f-039fc59154ed",
    "scrolled": true
   },
   "outputs": [
    {
     "name": "stdout",
     "output_type": "stream",
     "text": [
      "Epoch 1/100\n",
      "45/45 [==============================] - 1s 2ms/step - loss: 0.0940 - accuracy: 0.1134\n",
      "Epoch 2/100\n",
      "45/45 [==============================] - 0s 2ms/step - loss: 0.0871 - accuracy: 0.2661\n",
      "Epoch 3/100\n",
      "45/45 [==============================] - 0s 2ms/step - loss: 0.0811 - accuracy: 0.3957\n",
      "Epoch 4/100\n",
      "45/45 [==============================] - 0s 2ms/step - loss: 0.0755 - accuracy: 0.4465\n",
      "Epoch 5/100\n",
      "45/45 [==============================] - 0s 2ms/step - loss: 0.0715 - accuracy: 0.4831\n",
      "Epoch 6/100\n",
      "45/45 [==============================] - 0s 2ms/step - loss: 0.0646 - accuracy: 0.5487\n",
      "Epoch 7/100\n",
      "45/45 [==============================] - 0s 2ms/step - loss: 0.0608 - accuracy: 0.5980\n",
      "Epoch 8/100\n",
      "45/45 [==============================] - 0s 2ms/step - loss: 0.0568 - accuracy: 0.6464\n",
      "Epoch 9/100\n",
      "45/45 [==============================] - 0s 2ms/step - loss: 0.0520 - accuracy: 0.7317\n",
      "Epoch 10/100\n",
      "45/45 [==============================] - 0s 2ms/step - loss: 0.0473 - accuracy: 0.8052\n",
      "Epoch 11/100\n",
      "45/45 [==============================] - 0s 2ms/step - loss: 0.0423 - accuracy: 0.8394\n",
      "Epoch 12/100\n",
      "45/45 [==============================] - 0s 2ms/step - loss: 0.0390 - accuracy: 0.8605\n",
      "Epoch 13/100\n",
      "45/45 [==============================] - 0s 2ms/step - loss: 0.0349 - accuracy: 0.8793\n",
      "Epoch 14/100\n",
      "45/45 [==============================] - 0s 2ms/step - loss: 0.0330 - accuracy: 0.8804\n",
      "Epoch 15/100\n",
      "45/45 [==============================] - 0s 2ms/step - loss: 0.0296 - accuracy: 0.9009\n",
      "Epoch 16/100\n",
      "45/45 [==============================] - 0s 2ms/step - loss: 0.0285 - accuracy: 0.8865\n",
      "Epoch 17/100\n",
      "45/45 [==============================] - 0s 2ms/step - loss: 0.0276 - accuracy: 0.9049\n",
      "Epoch 18/100\n",
      "45/45 [==============================] - 0s 2ms/step - loss: 0.0256 - accuracy: 0.9034\n",
      "Epoch 19/100\n",
      "45/45 [==============================] - 0s 2ms/step - loss: 0.0238 - accuracy: 0.9196\n",
      "Epoch 20/100\n",
      "45/45 [==============================] - 0s 2ms/step - loss: 0.0230 - accuracy: 0.9035\n",
      "Epoch 21/100\n",
      "45/45 [==============================] - 0s 2ms/step - loss: 0.0211 - accuracy: 0.9283\n",
      "Epoch 22/100\n",
      "45/45 [==============================] - 0s 2ms/step - loss: 0.0205 - accuracy: 0.9309\n",
      "Epoch 23/100\n",
      "45/45 [==============================] - 0s 2ms/step - loss: 0.0194 - accuracy: 0.9318\n",
      "Epoch 24/100\n",
      "45/45 [==============================] - 0s 2ms/step - loss: 0.0193 - accuracy: 0.9254\n",
      "Epoch 25/100\n",
      "45/45 [==============================] - 0s 2ms/step - loss: 0.0178 - accuracy: 0.9326\n",
      "Epoch 26/100\n",
      "45/45 [==============================] - 0s 2ms/step - loss: 0.0169 - accuracy: 0.9306\n",
      "Epoch 27/100\n",
      "45/45 [==============================] - 0s 2ms/step - loss: 0.0169 - accuracy: 0.9400\n",
      "Epoch 28/100\n",
      "45/45 [==============================] - 0s 2ms/step - loss: 0.0171 - accuracy: 0.9367\n",
      "Epoch 29/100\n",
      "45/45 [==============================] - 0s 2ms/step - loss: 0.0152 - accuracy: 0.9414\n",
      "Epoch 30/100\n",
      "45/45 [==============================] - 0s 2ms/step - loss: 0.0150 - accuracy: 0.9524\n",
      "Epoch 31/100\n",
      "45/45 [==============================] - 0s 2ms/step - loss: 0.0147 - accuracy: 0.9425\n",
      "Epoch 32/100\n",
      "45/45 [==============================] - 0s 2ms/step - loss: 0.0142 - accuracy: 0.9489\n",
      "Epoch 33/100\n",
      "45/45 [==============================] - 0s 2ms/step - loss: 0.0137 - accuracy: 0.9446\n",
      "Epoch 34/100\n",
      "45/45 [==============================] - 0s 2ms/step - loss: 0.0138 - accuracy: 0.9503\n",
      "Epoch 35/100\n",
      "45/45 [==============================] - 0s 2ms/step - loss: 0.0121 - accuracy: 0.9635\n",
      "Epoch 36/100\n",
      "45/45 [==============================] - 0s 2ms/step - loss: 0.0125 - accuracy: 0.9550\n",
      "Epoch 37/100\n",
      "45/45 [==============================] - 0s 2ms/step - loss: 0.0137 - accuracy: 0.9494\n",
      "Epoch 38/100\n",
      "45/45 [==============================] - 0s 2ms/step - loss: 0.0120 - accuracy: 0.9543\n",
      "Epoch 39/100\n",
      "45/45 [==============================] - 0s 2ms/step - loss: 0.0110 - accuracy: 0.9639\n",
      "Epoch 40/100\n",
      "45/45 [==============================] - 0s 3ms/step - loss: 0.0120 - accuracy: 0.9551\n",
      "Epoch 41/100\n",
      "45/45 [==============================] - 0s 2ms/step - loss: 0.0119 - accuracy: 0.9648\n",
      "Epoch 42/100\n",
      "45/45 [==============================] - 0s 2ms/step - loss: 0.0120 - accuracy: 0.9560\n",
      "Epoch 43/100\n",
      "45/45 [==============================] - 0s 2ms/step - loss: 0.0105 - accuracy: 0.9659\n",
      "Epoch 44/100\n",
      "45/45 [==============================] - 0s 2ms/step - loss: 0.0100 - accuracy: 0.9697\n",
      "Epoch 45/100\n",
      "45/45 [==============================] - 0s 3ms/step - loss: 0.0105 - accuracy: 0.9643\n",
      "Epoch 46/100\n",
      "45/45 [==============================] - 0s 2ms/step - loss: 0.0096 - accuracy: 0.9691\n",
      "Epoch 47/100\n",
      "45/45 [==============================] - 0s 2ms/step - loss: 0.0107 - accuracy: 0.9555\n",
      "Epoch 48/100\n",
      "45/45 [==============================] - 0s 2ms/step - loss: 0.0102 - accuracy: 0.9647\n",
      "Epoch 49/100\n",
      "45/45 [==============================] - 0s 2ms/step - loss: 0.0097 - accuracy: 0.9648\n",
      "Epoch 50/100\n",
      "45/45 [==============================] - 0s 2ms/step - loss: 0.0107 - accuracy: 0.9587\n",
      "Epoch 51/100\n",
      "45/45 [==============================] - 0s 2ms/step - loss: 0.0103 - accuracy: 0.9558\n",
      "Epoch 52/100\n",
      "45/45 [==============================] - 0s 2ms/step - loss: 0.0099 - accuracy: 0.9659\n",
      "Epoch 53/100\n",
      "45/45 [==============================] - 0s 2ms/step - loss: 0.0099 - accuracy: 0.9665\n",
      "Epoch 54/100\n",
      "45/45 [==============================] - 0s 2ms/step - loss: 0.0091 - accuracy: 0.9689\n",
      "Epoch 55/100\n",
      "45/45 [==============================] - 0s 2ms/step - loss: 0.0091 - accuracy: 0.9653\n",
      "Epoch 56/100\n",
      "45/45 [==============================] - 0s 2ms/step - loss: 0.0097 - accuracy: 0.9602\n",
      "Epoch 57/100\n",
      "45/45 [==============================] - 0s 2ms/step - loss: 0.0086 - accuracy: 0.9664\n",
      "Epoch 58/100\n",
      "45/45 [==============================] - 0s 2ms/step - loss: 0.0085 - accuracy: 0.9681\n",
      "Epoch 59/100\n",
      "45/45 [==============================] - 0s 2ms/step - loss: 0.0080 - accuracy: 0.9721\n",
      "Epoch 60/100\n",
      "45/45 [==============================] - 0s 2ms/step - loss: 0.0077 - accuracy: 0.9715\n",
      "Epoch 61/100\n",
      "45/45 [==============================] - 0s 2ms/step - loss: 0.0082 - accuracy: 0.9679\n",
      "Epoch 62/100\n",
      "45/45 [==============================] - 0s 2ms/step - loss: 0.0085 - accuracy: 0.9650\n",
      "Epoch 63/100\n",
      "45/45 [==============================] - 0s 3ms/step - loss: 0.0079 - accuracy: 0.9714\n",
      "Epoch 64/100\n",
      "45/45 [==============================] - 0s 2ms/step - loss: 0.0083 - accuracy: 0.9631\n",
      "Epoch 65/100\n",
      "45/45 [==============================] - 0s 2ms/step - loss: 0.0075 - accuracy: 0.9722\n",
      "Epoch 66/100\n",
      "45/45 [==============================] - 0s 2ms/step - loss: 0.0081 - accuracy: 0.9678\n",
      "Epoch 67/100\n",
      "45/45 [==============================] - 0s 2ms/step - loss: 0.0077 - accuracy: 0.9725\n",
      "Epoch 68/100\n",
      "45/45 [==============================] - 0s 2ms/step - loss: 0.0077 - accuracy: 0.9718\n",
      "Epoch 69/100\n",
      "45/45 [==============================] - 0s 2ms/step - loss: 0.0077 - accuracy: 0.9722\n",
      "Epoch 70/100\n",
      "45/45 [==============================] - 0s 2ms/step - loss: 0.0067 - accuracy: 0.9758\n",
      "Epoch 71/100\n",
      "45/45 [==============================] - 0s 2ms/step - loss: 0.0075 - accuracy: 0.9654\n",
      "Epoch 72/100\n",
      "45/45 [==============================] - 0s 2ms/step - loss: 0.0082 - accuracy: 0.9659\n",
      "Epoch 73/100\n",
      "45/45 [==============================] - 0s 2ms/step - loss: 0.0072 - accuracy: 0.9705\n",
      "Epoch 74/100\n",
      "45/45 [==============================] - 0s 2ms/step - loss: 0.0065 - accuracy: 0.9759\n",
      "Epoch 75/100\n",
      "45/45 [==============================] - 0s 2ms/step - loss: 0.0067 - accuracy: 0.9755\n",
      "Epoch 76/100\n",
      "45/45 [==============================] - 0s 2ms/step - loss: 0.0068 - accuracy: 0.9709\n",
      "Epoch 77/100\n",
      "45/45 [==============================] - 0s 2ms/step - loss: 0.0065 - accuracy: 0.9750\n",
      "Epoch 78/100\n",
      "45/45 [==============================] - 0s 2ms/step - loss: 0.0065 - accuracy: 0.9718\n",
      "Epoch 79/100\n",
      "45/45 [==============================] - 0s 2ms/step - loss: 0.0067 - accuracy: 0.9697\n",
      "Epoch 80/100\n",
      "45/45 [==============================] - 0s 2ms/step - loss: 0.0075 - accuracy: 0.9629\n",
      "Epoch 81/100\n",
      "45/45 [==============================] - 0s 2ms/step - loss: 0.0061 - accuracy: 0.9745\n",
      "Epoch 82/100\n",
      "45/45 [==============================] - 0s 2ms/step - loss: 0.0066 - accuracy: 0.9703\n",
      "Epoch 83/100\n",
      "45/45 [==============================] - 0s 2ms/step - loss: 0.0066 - accuracy: 0.9763\n",
      "Epoch 84/100\n",
      "45/45 [==============================] - 0s 2ms/step - loss: 0.0063 - accuracy: 0.9770\n",
      "Epoch 85/100\n",
      "45/45 [==============================] - 0s 2ms/step - loss: 0.0056 - accuracy: 0.9774\n",
      "Epoch 86/100\n",
      "45/45 [==============================] - 0s 2ms/step - loss: 0.0065 - accuracy: 0.9754\n",
      "Epoch 87/100\n",
      "45/45 [==============================] - 0s 2ms/step - loss: 0.0055 - accuracy: 0.9836\n",
      "Epoch 88/100\n",
      "45/45 [==============================] - 0s 2ms/step - loss: 0.0057 - accuracy: 0.9824\n",
      "Epoch 89/100\n",
      "45/45 [==============================] - 0s 2ms/step - loss: 0.0060 - accuracy: 0.9789\n",
      "Epoch 90/100\n",
      "45/45 [==============================] - 0s 2ms/step - loss: 0.0056 - accuracy: 0.9830\n",
      "Epoch 91/100\n",
      "45/45 [==============================] - 0s 2ms/step - loss: 0.0059 - accuracy: 0.9745\n",
      "Epoch 92/100\n",
      "45/45 [==============================] - 0s 2ms/step - loss: 0.0055 - accuracy: 0.9796\n",
      "Epoch 93/100\n",
      "45/45 [==============================] - 0s 2ms/step - loss: 0.0057 - accuracy: 0.9821\n",
      "Epoch 94/100\n",
      "45/45 [==============================] - 0s 2ms/step - loss: 0.0054 - accuracy: 0.9834\n",
      "Epoch 95/100\n",
      "45/45 [==============================] - 0s 2ms/step - loss: 0.0061 - accuracy: 0.9790\n",
      "Epoch 96/100\n",
      "45/45 [==============================] - 0s 2ms/step - loss: 0.0058 - accuracy: 0.9804\n",
      "Epoch 97/100\n",
      "45/45 [==============================] - 0s 2ms/step - loss: 0.0058 - accuracy: 0.9807\n",
      "Epoch 98/100\n",
      "45/45 [==============================] - 0s 2ms/step - loss: 0.0054 - accuracy: 0.9794\n",
      "Epoch 99/100\n",
      "45/45 [==============================] - 0s 2ms/step - loss: 0.0058 - accuracy: 0.9785\n",
      "Epoch 100/100\n",
      "45/45 [==============================] - 0s 2ms/step - loss: 0.0056 - accuracy: 0.9809\n"
     ]
    }
   ],
   "source": [
    "model.compile(optimizer='SGD',loss='mse', metrics=['accuracy'])\n",
    "hist = model.fit(np.array(x_train), np.array(yt_train), epochs=100)"
   ]
  },
  {
   "cell_type": "code",
   "execution_count": null,
   "metadata": {
    "colab": {
     "base_uri": "https://localhost:8080/",
     "height": 281
    },
    "id": "ybz7-ch2OQOf",
    "outputId": "5006717b-aff8-4a78-d30b-92e35f8b79a3"
   },
   "outputs": [
    {
     "data": {
      "image/png": "[encoded data removed]",
      "text/plain": [
       "<Figure size 1080x288 with 2 Axes>"
      ]
     },
     "metadata": {
      "needs_background": "light",
      "tags": []
     },
     "output_type": "display_data"
    }
   ],
   "source": [
    "fig, axs = plt.subplots(1, 2, figsize=(15, 4))\n",
    "axs[0].set_title('train loss')\n",
    "axs[0].plot(hist.__dict__['history']['loss'])\n",
    "axs[1].set_title('train accuracy')\n",
    "axs[1].plot(hist.__dict__['history']['accuracy'])\n",
    "axs[1].set_ylim(0,1.1)\n",
    "plt.show()"
   ]
  },
  {
   "cell_type": "markdown",
   "metadata": {
    "id": "gUE_xEFXalar"
   },
   "source": [
    "Note that the accuracy reported here is on the training dataset."
   ]
  },
  {
   "cell_type": "markdown",
   "metadata": {
    "id": "YZ9ftf7DOQOf"
   },
   "source": [
    "# \"Dangers\" of using deep learning frameworks\n",
    "\n",
    "As you see here, Keras's ease of use is awesome. However, this easily leads to implement networks that you don't understand. While this can lead to good results, it is not what we want to see in your course projects. \n",
    "\n",
    "A good rule of thumb for your project: *don't use what you don't understand*.\n",
    "\n",
    "When implementing a neural network with JAX, you have to take control of every part of the design and training process. You will implement the loss function, the batching, the cross-validation scheme, the gradient step size, the update step (stochastic/batch/mini-batch, momentum, scheduling), early stopping, etc etc. Frameworks can easily obscure this away from you. Consider the model that you understand:\n",
    "```\n",
    "model.compile(optimizer='SGD',loss='mse', metrics=['accuracy'])\n",
    "```\n",
    "it uses stochastic gradient descent and the MSE loss. You should know and understand how this works. Now consider this simple change:\n",
    "```\n",
    "model.compile(optimizer='Adam',loss='cross-entropy', metrics=['accuracy'])\n",
    "```\n",
    "It is very easy to run this model and you will see your model converge much faster:"
   ]
  },
  {
   "cell_type": "code",
   "execution_count": null,
   "metadata": {
    "id": "nsb9wzD2OQOf"
   },
   "outputs": [],
   "source": [
    "model = keras.models.Sequential()\n",
    "model.add(keras.layers.Dense(500, input_shape=(64, ), activation='tanh'))\n",
    "model.add(keras.layers.Dense(500, activation='tanh'))\n",
    "model.add(keras.layers.Dense(10, activation='softmax'))"
   ]
  },
  {
   "cell_type": "code",
   "execution_count": null,
   "metadata": {
    "colab": {
     "base_uri": "https://localhost:8080/",
     "height": 281
    },
    "id": "5yf-g-dcOQOf",
    "outputId": "1a71ca81-9b73-4066-cb52-487fbf72a819",
    "scrolled": true
   },
   "outputs": [
    {
     "data": {
      "image/png": "[encoded data removed]",
      "text/plain": [
       "<Figure size 1080x288 with 2 Axes>"
      ]
     },
     "metadata": {
      "needs_background": "light",
      "tags": []
     },
     "output_type": "display_data"
    }
   ],
   "source": [
    "model.compile(optimizer='Adam',loss='categorical_crossentropy', metrics=['accuracy'])\n",
    "hist = model.fit(np.array(x_train), np.array(yt_train), epochs=20, verbose=0)\n",
    "fig, axs = plt.subplots(1, 2, figsize=(15, 4))\n",
    "axs[0].set_title('train loss')\n",
    "axs[0].plot(hist.__dict__['history']['loss'])\n",
    "axs[1].set_title('train accuracy')\n",
    "axs[1].plot(hist.__dict__['history']['accuracy'])\n",
    "axs[1].set_ylim(0,1.1)\n",
    "plt.show()"
   ]
  },
  {
   "cell_type": "markdown",
   "metadata": {
    "id": "hfIykjrZOQOg"
   },
   "source": [
    "But why does this work? Most likely, you won't be able to answer this. You would need to understand what \"Adam\" does and what the \"categorical cross entropy\" loss is (links: [Adam](https://arxiv.org/abs/1412.6980), [cross-entropy loss](https://en.wikipedia.org/wiki/Cross_entropy#Cross-entropy_loss_function_and_logistic_regression)).\n",
    "\n",
    "In the course project report, we will expect you to understand (and explain) your network and why it performs better than your (or someone else's) baseline model. Therefore, make sure that you understand what you implement. \n",
    "\n",
    "Implementing your neural networks using a library like JAX will make it much easier to understand what you are building, to understand why something does or doesn't work, and it will give you a lot of insight that is usually obscured by these big deep learning frameworks.\n",
    "\n",
    "Note: [Haiku](https://github.com/deepmind/dm-haiku) is another library that is built on top of JAX to provide some commonly used constructs (similar to what Keras is to TensorFlow).\n",
    "\n",
    "This being said, you are free to use any library you want - just be mindful of the project requirements and think about what approach will give you the best return on invested time (in terms of quality of work and your personal learning outcome)."
   ]
  },
  {
   "cell_type": "code",
   "execution_count": null,
   "metadata": {
    "id": "JvlRlivbb94D"
   },
   "outputs": [],
   "source": []
  }
 ],
 "metadata": {
  "accelerator": "GPU",
  "colab": {
   "collapsed_sections": [],
   "name": "NN AI Programming Tutorial 01.ipynb",
   "provenance": []
  },
  "kernelspec": {
   "display_name": "Python 3",
   "language": "python",
   "name": "python3"
  },
  "language_info": {
   "codemirror_mode": {
    "name": "ipython",
    "version": 3
   },
   "file_extension": ".py",
   "mimetype": "text/x-python",
   "name": "python",
   "nbconvert_exporter": "python",
   "pygments_lexer": "ipython3",
   "version": "3.8.5"
  }
 },
 "nbformat": 4,
 "nbformat_minor": 1
}
